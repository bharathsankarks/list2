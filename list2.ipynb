{
 "cells": [
  {
   "cell_type": "code",
   "execution_count": 4,
   "id": "89fa2b49-dc81-4acb-8b50-b8d1188026d3",
   "metadata": {},
   "outputs": [],
   "source": [
    "x=[\"bharath\",14,18,\"21/12/2004\",\"nellayi\"]"
   ]
  },
  {
   "cell_type": "code",
   "execution_count": 6,
   "id": "f79cb45a-f53b-4f97-a447-922c2b0b63cb",
   "metadata": {},
   "outputs": [
    {
     "name": "stdout",
     "output_type": "stream",
     "text": [
      "['bharath', 14, 18, '21/12/2004', 'nellayi']\n"
     ]
    }
   ],
   "source": [
    "print(x)"
   ]
  },
  {
   "cell_type": "code",
   "execution_count": 7,
   "id": "3dc924c0-bc82-4a97-8505-d357c3d56a94",
   "metadata": {},
   "outputs": [
    {
     "data": {
      "text/plain": [
       "'bharath'"
      ]
     },
     "execution_count": 7,
     "metadata": {},
     "output_type": "execute_result"
    }
   ],
   "source": [
    "x[0]"
   ]
  },
  {
   "cell_type": "code",
   "execution_count": 10,
   "id": "7e25b0db-c246-4a6a-9c8b-71fb58ebe0ec",
   "metadata": {},
   "outputs": [
    {
     "data": {
      "text/plain": [
       "'21/12/2004'"
      ]
     },
     "execution_count": 10,
     "metadata": {},
     "output_type": "execute_result"
    }
   ],
   "source": [
    "x[3]"
   ]
  },
  {
   "cell_type": "code",
   "execution_count": 11,
   "id": "6764c266-6d33-4c77-ae67-e6267d468b8d",
   "metadata": {},
   "outputs": [],
   "source": [
    "x.append(\"thrissur\")"
   ]
  },
  {
   "cell_type": "code",
   "execution_count": 12,
   "id": "6b441cb8-8bbc-45b4-985f-a29cea0ddd3f",
   "metadata": {},
   "outputs": [
    {
     "name": "stdout",
     "output_type": "stream",
     "text": [
      "['bharath', 14, 18, '21/12/2004', 'nellayi', 'thrissur']\n"
     ]
    }
   ],
   "source": [
    "print(x)"
   ]
  },
  {
   "cell_type": "code",
   "execution_count": 13,
   "id": "aa93f1b0-4fd5-4294-b1e7-a855b397a6f6",
   "metadata": {},
   "outputs": [],
   "source": [
    "x.insert(1,\"kerala\")"
   ]
  },
  {
   "cell_type": "code",
   "execution_count": 14,
   "id": "781daeba-4d77-4c20-9e90-7813e1ea52c0",
   "metadata": {},
   "outputs": [
    {
     "name": "stdout",
     "output_type": "stream",
     "text": [
      "['bharath', 'kerala', 14, 18, '21/12/2004', 'nellayi', 'thrissur']\n"
     ]
    }
   ],
   "source": [
    "print(x)"
   ]
  }
 ],
 "metadata": {
  "kernelspec": {
   "display_name": "Python 3 (ipykernel)",
   "language": "python",
   "name": "python3"
  },
  "language_info": {
   "codemirror_mode": {
    "name": "ipython",
    "version": 3
   },
   "file_extension": ".py",
   "mimetype": "text/x-python",
   "name": "python",
   "nbconvert_exporter": "python",
   "pygments_lexer": "ipython3",
   "version": "3.9.12"
  }
 },
 "nbformat": 4,
 "nbformat_minor": 5
}
